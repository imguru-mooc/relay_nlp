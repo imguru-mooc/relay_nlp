{
 "cells": [
  {
   "cell_type": "markdown",
   "metadata": {},
   "source": [
    "### seq2seq"
   ]
  },
  {
   "cell_type": "code",
   "execution_count": 19,
   "metadata": {},
   "outputs": [
    {
     "name": "stdout",
     "output_type": "stream",
     "text": [
      "[16+75  ]\n",
      "[_91  ]\n"
     ]
    }
   ],
   "source": [
    "import sys\n",
    "sys.path.append('..')\n",
    "\n",
    "file_path = \"../dataset/addition.txt\"\n",
    "\n",
    "questions, answers = [], []\n",
    "for line in open(file_path, 'r'):\n",
    "    idx = line.find('_')\n",
    "    questions.append(line[:idx])\n",
    "    answers.append(line[idx:-1])\n",
    "print(\"[%s]\"%questions[0])\n",
    "print(\"[%s]\"%answers[0])"
   ]
  },
  {
   "cell_type": "code",
   "execution_count": 27,
   "metadata": {},
   "outputs": [],
   "source": [
    "id_to_char = {}\n",
    "char_to_id = {}\n",
    "def _update_vocab(txt):\n",
    "    chars = list(txt)\n",
    "#     print(chars)\n",
    "    for i, char in enumerate(chars):\n",
    "        if char not in char_to_id:\n",
    "            tmp_id = len(char_to_id)\n",
    "            char_to_id[char] = tmp_id\n",
    "            id_to_char[tmp_id] = char"
   ]
  },
  {
   "cell_type": "code",
   "execution_count": 28,
   "metadata": {},
   "outputs": [
    {
     "name": "stdout",
     "output_type": "stream",
     "text": [
      "{'1': 0, '6': 1, '+': 2, '7': 3, '5': 4, ' ': 5, '_': 6, '9': 7, '2': 8, '0': 9, '3': 10, '8': 11, '4': 12}\n",
      "{0: '1', 1: '6', 2: '+', 3: '7', 4: '5', 5: ' ', 6: '_', 7: '9', 8: '2', 9: '0', 10: '3', 11: '8', 12: '4'}\n"
     ]
    }
   ],
   "source": [
    "for i in range(len(questions)):\n",
    "    q, a = questions[i], answers[i]\n",
    "    _update_vocab(q)\n",
    "    _update_vocab(a)\n",
    "    \n",
    "print(char_to_id)\n",
    "print(id_to_char)"
   ]
  },
  {
   "cell_type": "code",
   "execution_count": 31,
   "metadata": {},
   "outputs": [
    {
     "name": "stdout",
     "output_type": "stream",
     "text": [
      "(50000, 7)\n",
      "(50000, 5)\n"
     ]
    }
   ],
   "source": [
    "x = np.zeros((len(questions), len(questions[0])), dtype=np.int)\n",
    "t = np.zeros((len(questions), len(answers[0])), dtype=np.int)\n",
    "print(x.shape)\n",
    "print(t.shape)"
   ]
  },
  {
   "cell_type": "code",
   "execution_count": 33,
   "metadata": {},
   "outputs": [
    {
     "name": "stdout",
     "output_type": "stream",
     "text": [
      "[0 1 2 3 4 5 5]\n",
      "[6 7 0 5 5]\n"
     ]
    }
   ],
   "source": [
    "for i, sentence in enumerate(questions):\n",
    "    x[i] = [char_to_id[c] for c in list(sentence)]\n",
    "for i, sentence in enumerate(answers):\n",
    "    t[i] = [char_to_id[c] for c in list(sentence)]\n",
    "    \n",
    "print(x[0])\n",
    "print(t[0])"
   ]
  },
  {
   "cell_type": "code",
   "execution_count": 41,
   "metadata": {},
   "outputs": [
    {
     "name": "stdout",
     "output_type": "stream",
     "text": [
      "[1 4 4 2 7 8 1]\n",
      "[ 6  0  4 11  0]\n"
     ]
    }
   ],
   "source": [
    "# 뒤섞기\n",
    "seed=1984\n",
    "indices = np.arange(len(x))\n",
    "if seed is not None:\n",
    "    np.random.seed(seed)\n",
    "np.random.shuffle(indices)\n",
    "x = x[indices]\n",
    "t = t[indices]\n",
    "\n",
    "print(x[0])\n",
    "print(t[0])"
   ]
  },
  {
   "cell_type": "code",
   "execution_count": 43,
   "metadata": {},
   "outputs": [
    {
     "name": "stdout",
     "output_type": "stream",
     "text": [
      "(45000, 7)\n",
      "(5000, 7)\n",
      "(45000, 5)\n",
      "(5000, 5)\n"
     ]
    }
   ],
   "source": [
    "# 검증 데이터셋으로 10% 할당\n",
    "split_at = len(x) - len(x) // 10\n",
    "(x_train, x_test) = x[:split_at], x[split_at:]\n",
    "(t_train, t_test) = t[:split_at], t[split_at:]\n",
    "print(x_train.shape)\n",
    "print(x_test.shape)\n",
    "print(t_train.shape)\n",
    "print(t_test.shape)"
   ]
  },
  {
   "cell_type": "code",
   "execution_count": 45,
   "metadata": {},
   "outputs": [
    {
     "name": "stdout",
     "output_type": "stream",
     "text": [
      "{'1': 0, '6': 1, '+': 2, '7': 3, '5': 4, ' ': 5, '_': 6, '9': 7, '2': 8, '0': 9, '3': 10, '8': 11, '4': 12}\n",
      "(45000, 7) (45000, 5)\n"
     ]
    }
   ],
   "source": [
    "# coding: utf-8\n",
    "import sys\n",
    "sys.path.append('..')\n",
    "from dataset import sequence\n",
    "\n",
    "(x_train, t_train), (x_test, t_test) = \\\n",
    "    sequence.load_data('addition.txt', seed=1984)\n",
    "char_to_id, id_to_char = sequence.get_vocab()\n",
    "\n",
    "print(char_to_id)\n",
    "print(x_train.shape, t_train.shape)\n",
    "# print(x_test.shape, t_test.shape)\n",
    "# (45000, 7) (5000, 7)\n",
    "# (5000, 7) (5000, 5)\n",
    "\n",
    "# print(x_train[0])\n",
    "# print(t_train[0])\n",
    "# [ 3  0  2  0  0 11  5]\n",
    "# [ 6  0 11  7  5]\n",
    "\n",
    "# print(''.join([id_to_char[c] for c in x_train[0]]))\n",
    "# print(''.join([id_to_char[c] for c in t_train[0]]))\n",
    "# 71+118\n",
    "# _189"
   ]
  },
  {
   "cell_type": "code",
   "execution_count": null,
   "metadata": {},
   "outputs": [],
   "source": []
  }
 ],
 "metadata": {
  "kernelspec": {
   "display_name": "Python 3",
   "language": "python",
   "name": "python3"
  },
  "language_info": {
   "codemirror_mode": {
    "name": "ipython",
    "version": 3
   },
   "file_extension": ".py",
   "mimetype": "text/x-python",
   "name": "python",
   "nbconvert_exporter": "python",
   "pygments_lexer": "ipython3",
   "version": "3.8.8"
  }
 },
 "nbformat": 4,
 "nbformat_minor": 4
}
